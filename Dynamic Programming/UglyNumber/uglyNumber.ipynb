{
 "cells": [
  {
   "cell_type": "markdown",
   "metadata": {},
   "source": [
    "# 264. Ugly Number II\n",
    "## Level: Medium\n",
    "An ugly number is a positive integer whose prime factors are limited to 2, 3, and 5.<br>\n",
    "Given an integer n, return the nth ugly number."
   ]
  },
  {
   "cell_type": "markdown",
   "metadata": {},
   "source": [
    "#### Approach: Dynamic Programming"
   ]
  },
  {
   "cell_type": "markdown",
   "metadata": {},
   "source": [
    "We maintain a grid with rows as the three factors.\n",
    "\n",
    "The Recurrence Relationship:\n",
    "dp[n]= min{2.dp[index2],3.dp[index3],5.dp[index5]}"
   ]
  },
  {
   "cell_type": "code",
   "execution_count": 4,
   "metadata": {},
   "outputs": [],
   "source": [
    "def nthUglyNumber(n):\n",
    "    dp=[1]*n\n",
    "    count=1\n",
    "    idx2,idx3,idx5=0,0,0\n",
    "    while count<n:\n",
    "        val2 = dp[idx2]*2\n",
    "        val3 = dp[idx3]*3\n",
    "        val5 = dp[idx5]*5\n",
    "        val = min(val2,val3,val5)\n",
    "        if val==val2: idx2+=1\n",
    "        if val==val3: idx3+=1\n",
    "        if val==val5: idx5+=1\n",
    "        dp[count] = val\n",
    "        count+=1\n",
    "    return dp[n-1]\n"
   ]
  },
  {
   "cell_type": "code",
   "execution_count": 5,
   "metadata": {},
   "outputs": [
    {
     "name": "stdout",
     "output_type": "stream",
     "text": [
      "8\n"
     ]
    }
   ],
   "source": [
    "n = 7\n",
    "print(nthUglyNumber(n))"
   ]
  },
  {
   "cell_type": "markdown",
   "metadata": {},
   "source": [
    "### Method 2: Recursive Call"
   ]
  },
  {
   "cell_type": "markdown",
   "metadata": {},
   "source": [
    "Loop over all the numbers till count is less than n. Check if a number divide the number by greatest powers of 2,3 or 5."
   ]
  },
  {
   "cell_type": "code",
   "execution_count": 6,
   "metadata": {},
   "outputs": [
    {
     "name": "stdout",
     "output_type": "stream",
     "text": [
      "8\n"
     ]
    }
   ],
   "source": [
    "# This function divides a by greatest\n",
    "# divisible power of b\n",
    "def maxDivide(a,b):\n",
    "    while a%b==0:\n",
    "        a = a/b\n",
    "    return a\n",
    "\n",
    "def isUgly(num):\n",
    "    num = maxDivide(num,2)\n",
    "    num = maxDivide(num,3)\n",
    "    num = maxDivide(num,5)\n",
    "    if(num==1):\n",
    "        return 1\n",
    "    return 0\n",
    "\n",
    "def nthUglyNum(n):\n",
    "    i=1\n",
    "    count=1\n",
    "    while(count<n):\n",
    "        i+=1\n",
    "        if(isUgly(i)):\n",
    "            count+=1\n",
    "    return i\n",
    "\n",
    "n = 7\n",
    "print(nthUglyNum(n))"
   ]
  },
  {
   "cell_type": "markdown",
   "metadata": {},
   "source": [
    "This issue with above snippet is that method is not time efficient."
   ]
  },
  {
   "cell_type": "code",
   "execution_count": null,
   "metadata": {},
   "outputs": [],
   "source": []
  }
 ],
 "metadata": {
  "interpreter": {
   "hash": "5216ac2f8ecd8612cc312a7ad537f7c5d59f5f1b4bd41522442c78985518e73e"
  },
  "kernelspec": {
   "display_name": "Python 3.8.8 64-bit ('base': conda)",
   "language": "python",
   "name": "python3"
  },
  "language_info": {
   "codemirror_mode": {
    "name": "ipython",
    "version": 3
   },
   "file_extension": ".py",
   "mimetype": "text/x-python",
   "name": "python",
   "nbconvert_exporter": "python",
   "pygments_lexer": "ipython3",
   "version": "3.8.8"
  },
  "orig_nbformat": 4
 },
 "nbformat": 4,
 "nbformat_minor": 2
}
