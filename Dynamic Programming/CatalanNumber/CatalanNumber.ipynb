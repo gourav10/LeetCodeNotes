{
 "cells": [
  {
   "cell_type": "markdown",
   "metadata": {},
   "source": [
    "## Find nth Catalan Number\n",
    "\n",
    "### Difficulty: Medium\n",
    "\n"
   ]
  },
  {
   "cell_type": "markdown",
   "metadata": {},
   "source": [
    "Catalan Numbers  are a sequence of natural numbers that occur in various counting problems, often involving recursively defined objects. \n",
    "\n",
    "Applications:\n",
    "1. Count number of possible bonary trees\n",
    "2. Count number of full binary trees\n",
    "and many more"
   ]
  },
  {
   "cell_type": "markdown",
   "metadata": {},
   "source": [
    "#### Method 1: Recursive Approach"
   ]
  },
  {
   "cell_type": "code",
   "execution_count": null,
   "metadata": {},
   "outputs": [],
   "source": [
    "def recCatalan(n):\n",
    "    result = 0\n",
    "    for i in range(n+1):\n",
    "        result += recCatalan(i)+recCatalan(n-i-1)\n",
    "    return result"
   ]
  },
  {
   "cell_type": "markdown",
   "metadata": {},
   "source": [
    "The above approach has exponential runtime"
   ]
  },
  {
   "cell_type": "markdown",
   "metadata": {},
   "source": [
    "#### Method 2: Dynamic Programming Approach\n",
    "\n",
    "In this we use top-down approach, we create a auxillary storage to store the catalan number at ith index"
   ]
  },
  {
   "cell_type": "code",
   "execution_count": null,
   "metadata": {},
   "outputs": [],
   "source": [
    "def Catalan(n):\n",
    "    dp=[]\n",
    "    dp[0] = 1\n",
    "    dp[1] = 1\n",
    "    for i in range(2,n+1):\n",
    "        result = 0\n",
    "        for j in range(i):\n",
    "            result += dp[j]*dp[n-j-1]\n",
    "        dp[i] = result\n",
    "    return dp[n]\n",
    "    "
   ]
  },
  {
   "cell_type": "markdown",
   "metadata": {},
   "source": [
    "The runtime of the above approach is O(n^2) and space complexity is O(n)"
   ]
  },
  {
   "cell_type": "markdown",
   "metadata": {},
   "source": []
  }
 ],
 "metadata": {
  "language_info": {
   "name": "python"
  },
  "orig_nbformat": 4
 },
 "nbformat": 4,
 "nbformat_minor": 2
}
